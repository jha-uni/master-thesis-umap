{
 "cells": [
  {
   "cell_type": "markdown",
   "metadata": {},
   "source": [
    "## Load packages"
   ]
  },
  {
   "cell_type": "code",
   "execution_count": null,
   "metadata": {},
   "outputs": [],
   "source": [
    "import numpy as np\n",
    "import pylab as plt\n",
    "import seaborn as sns\n",
    "import pandas as pd\n",
    "import matplotlib.pyplot as plt\n",
    "import colorcet\n",
    "import umap\n",
    "import scanpy as sc\n",
    "import pickle\n",
    "import time\n",
    "import itertools\n",
    "import warnings\n",
    "\n",
    "from sklearn.svm import SVC\n",
    "from sklearn.neighbors import KNeighborsClassifier\n",
    "from sklearn.ensemble import RandomForestClassifier\n",
    "from sklearn.linear_model import LogisticRegression\n",
    "from sklearn.discriminant_analysis import LinearDiscriminantAnalysis\n",
    "from sklearn.discriminant_analysis import QuadraticDiscriminantAnalysis\n",
    "\n",
    "from sklearn.pipeline import Pipeline\n",
    "from sklearn.preprocessing import LabelEncoder\n",
    "from sklearn.model_selection import cross_val_score, KFold, GridSearchCV\n",
    "from sklearn.metrics import accuracy_score, f1_score, balanced_accuracy_score"
   ]
  },
  {
   "cell_type": "markdown",
   "metadata": {},
   "source": [
    "## Load data"
   ]
  },
  {
   "cell_type": "code",
   "execution_count": null,
   "metadata": {},
   "outputs": [],
   "source": [
    "dataset = sc.read_h5ad(DATA_DIR /\"hochgerner_2018.h5ad\")"
   ]
  },
  {
   "cell_type": "code",
   "execution_count": null,
   "metadata": {},
   "outputs": [],
   "source": [
    "labels = dataset.obs.labels\n",
    "data = dataset.X.toarray()"
   ]
  },
  {
   "cell_type": "code",
   "execution_count": null,
   "metadata": {},
   "outputs": [],
   "source": [
    "dataset"
   ]
  },
  {
   "cell_type": "code",
   "execution_count": null,
   "metadata": {},
   "outputs": [],
   "source": [
    "labels.value_counts()"
   ]
  },
  {
   "cell_type": "code",
   "execution_count": null,
   "metadata": {},
   "outputs": [],
   "source": [
    "labels_copy = labels.copy()"
   ]
  },
  {
   "cell_type": "code",
   "execution_count": null,
   "metadata": {},
   "outputs": [],
   "source": [
    "le = LabelEncoder()\n",
    "le.fit(labels)\n",
    "labels = le.transform(labels)"
   ]
  },
  {
   "cell_type": "markdown",
   "metadata": {},
   "source": [
    "## Normalization of data"
   ]
  },
  {
   "cell_type": "code",
   "execution_count": null,
   "metadata": {},
   "outputs": [],
   "source": [
    "from scipy import stats\n",
    "\n",
    "#z-score (normalization on cell level)\n",
    "data = stats.zscore(data, axis=1)"
   ]
  },
  {
   "cell_type": "markdown",
   "metadata": {},
   "source": [
    "## Non cross-validated analysis"
   ]
  },
  {
   "cell_type": "markdown",
   "metadata": {},
   "source": [
    "### Split into training and test set"
   ]
  },
  {
   "cell_type": "code",
   "execution_count": null,
   "metadata": {},
   "outputs": [],
   "source": [
    "from sklearn.model_selection import train_test_split\n",
    "x_train, x_test, y_train, y_test = train_test_split(data, labels, test_size=.2, random_state=2022)"
   ]
  },
  {
   "cell_type": "markdown",
   "metadata": {},
   "source": [
    "### Performance on unreduced dataset"
   ]
  },
  {
   "cell_type": "markdown",
   "metadata": {},
   "source": [
    "#### SVM"
   ]
  },
  {
   "cell_type": "code",
   "execution_count": null,
   "metadata": {},
   "outputs": [],
   "source": [
    "%%time\n",
    "svm = SVC(random_state=1)\n",
    "svm.fit(x_train, y_train)\n",
    "svm_raw_yhat = svm.predict(x_test)"
   ]
  },
  {
   "cell_type": "code",
   "execution_count": null,
   "metadata": {},
   "outputs": [],
   "source": [
    "svm_raw_accuracy = accuracy_score(y_test, svm_raw_yhat)\n",
    "svm_raw_f1 = f1_score(y_test, svm_raw_yhat, average=\"macro\")\n",
    "(svm_raw_accuracy, svm_raw_f1)"
   ]
  },
  {
   "cell_type": "code",
   "execution_count": null,
   "metadata": {},
   "outputs": [],
   "source": [
    "with open('v2_output/svm_raw_acc.pkl', 'wb') as f:\n",
    "    pickle.dump(svm_raw_accuracy, f)\n",
    "    \n",
    "with open('v2_output/svm_raw_f1.pkl', 'wb') as f:\n",
    "    pickle.dump(svm_raw_f1, f)"
   ]
  },
  {
   "cell_type": "code",
   "execution_count": null,
   "metadata": {},
   "outputs": [],
   "source": [
    "with open('v2_output/svm_raw_yhat.pkl', 'wb') as f:\n",
    "    pickle.dump(svm_raw_yhat, f)"
   ]
  },
  {
   "cell_type": "markdown",
   "metadata": {},
   "source": [
    "#### MLR"
   ]
  },
  {
   "cell_type": "code",
   "execution_count": null,
   "metadata": {},
   "outputs": [],
   "source": [
    "%%time\n",
    "mlr = LogisticRegression(random_state=1)\n",
    "mlr.fit(x_train, y_train)\n",
    "mlr_raw_yhat = mlr.predict(x_test)"
   ]
  },
  {
   "cell_type": "code",
   "execution_count": null,
   "metadata": {},
   "outputs": [],
   "source": [
    "mlr_raw_accuracy = accuracy_score(y_test, mlr_raw_yhat)\n",
    "mlr_raw_f1 = f1_score(y_test, mlr_raw_yhat, average=\"macro\")\n",
    "(mlr_raw_accuracy, mlr_raw_f1)"
   ]
  },
  {
   "cell_type": "code",
   "execution_count": null,
   "metadata": {},
   "outputs": [],
   "source": [
    "with open('v2_output/mlr_raw_acc.pkl', 'wb') as f:\n",
    "    pickle.dump(mlr_raw_accuracy, f)\n",
    "    \n",
    "with open('v2_output/mlr_raw_f1.pkl', 'wb') as f:\n",
    "    pickle.dump(mlr_raw_f1, f)"
   ]
  },
  {
   "cell_type": "code",
   "execution_count": null,
   "metadata": {},
   "outputs": [],
   "source": [
    "with open('v2_output/mlr_raw_yhat.pkl', 'wb') as f:\n",
    "    pickle.dump(mlr_raw_yhat, f)"
   ]
  },
  {
   "cell_type": "markdown",
   "metadata": {},
   "source": [
    "#### LDA"
   ]
  },
  {
   "cell_type": "code",
   "execution_count": null,
   "metadata": {},
   "outputs": [],
   "source": [
    "%%time\n",
    "lda = LinearDiscriminantAnalysis()\n",
    "lda.fit(x_train, y_train)\n",
    "lda_raw_yhat = lda.predict(x_test)"
   ]
  },
  {
   "cell_type": "code",
   "execution_count": null,
   "metadata": {},
   "outputs": [],
   "source": [
    "lda_raw_accuracy = accuracy_score(y_test, lda_raw_yhat)\n",
    "lda_raw_f1 = f1_score(y_test, lda_raw_yhat, average=\"macro\")\n",
    "(lda_raw_accuracy, lda_raw_f1)"
   ]
  },
  {
   "cell_type": "code",
   "execution_count": null,
   "metadata": {},
   "outputs": [],
   "source": [
    "with open('v2_output/lda_raw_acc.pkl', 'wb') as f:\n",
    "    pickle.dump(lda_raw_accuracy, f)\n",
    "    \n",
    "with open('v2_output/lda_raw_f1.pkl', 'wb') as f:\n",
    "    pickle.dump(lda_raw_f1, f)"
   ]
  },
  {
   "cell_type": "code",
   "execution_count": null,
   "metadata": {},
   "outputs": [],
   "source": [
    "with open('v2_output/lda_raw_yhat.pkl', 'wb') as f:\n",
    "    pickle.dump(lda_raw_yhat, f)"
   ]
  },
  {
   "cell_type": "markdown",
   "metadata": {},
   "source": [
    "#### QDA"
   ]
  },
  {
   "cell_type": "code",
   "execution_count": null,
   "metadata": {},
   "outputs": [],
   "source": [
    "%%time\n",
    "qda = QuadraticDiscriminantAnalysis()\n",
    "qda.fit(x_train, y_train)\n",
    "qda_raw_yhat = qda.predict(x_test)"
   ]
  },
  {
   "cell_type": "code",
   "execution_count": null,
   "metadata": {},
   "outputs": [],
   "source": [
    "qda_raw_accuracy = accuracy_score(y_test, qda_raw_yhat)\n",
    "qda_raw_f1 = f1_score(y_test, qda_raw_yhat, average=\"macro\")\n",
    "(qda_raw_accuracy, qda_raw_f1)"
   ]
  },
  {
   "cell_type": "code",
   "execution_count": null,
   "metadata": {},
   "outputs": [],
   "source": [
    "with open('v2_output/qda_raw_acc.pkl', 'wb') as f:\n",
    "    pickle.dump(qda_raw_accuracy, f)\n",
    "    \n",
    "with open('v2_output/qda_raw_f1.pkl', 'wb') as f:\n",
    "    pickle.dump(qda_raw_f1, f)"
   ]
  },
  {
   "cell_type": "code",
   "execution_count": null,
   "metadata": {},
   "outputs": [],
   "source": [
    "with open('v2_output/qda_raw_yhat.pkl', 'wb') as f:\n",
    "    pickle.dump(qda_raw_yhat, f)"
   ]
  },
  {
   "cell_type": "markdown",
   "metadata": {},
   "source": [
    "#### KNN"
   ]
  },
  {
   "cell_type": "code",
   "execution_count": null,
   "metadata": {},
   "outputs": [],
   "source": [
    "%%time\n",
    "knn = KNeighborsClassifier(n_neighbors=5)\n",
    "knn.fit(x_train, y_train)\n",
    "knn_raw_yhat = knn.predict(x_test)"
   ]
  },
  {
   "cell_type": "code",
   "execution_count": null,
   "metadata": {},
   "outputs": [],
   "source": [
    "knn_raw_accuracy = accuracy_score(y_test, knn_raw_yhat)\n",
    "knn_raw_f1 = f1_score(y_test, knn_raw_yhat, average=\"macro\")\n",
    "(knn_raw_accuracy, knn_raw_f1)"
   ]
  },
  {
   "cell_type": "code",
   "execution_count": null,
   "metadata": {},
   "outputs": [],
   "source": [
    "with open('v2_output/knn5_raw_acc.pkl', 'wb') as f:\n",
    "    pickle.dump(knn_raw_accuracy, f)\n",
    "    \n",
    "with open('v2_output/knn5_raw_f1.pkl', 'wb') as f:\n",
    "    pickle.dump(knn_raw_f1, f)"
   ]
  },
  {
   "cell_type": "code",
   "execution_count": null,
   "metadata": {},
   "outputs": [],
   "source": [
    "with open('v2_output/knn5_raw_yhat.pkl', 'wb') as f:\n",
    "    pickle.dump(knn_raw_yhat, f)"
   ]
  },
  {
   "cell_type": "markdown",
   "metadata": {},
   "source": [
    "#### RF"
   ]
  },
  {
   "cell_type": "code",
   "execution_count": null,
   "metadata": {},
   "outputs": [],
   "source": [
    "%%time\n",
    "rf = RandomForestClassifier(random_state=1)\n",
    "rf.fit(x_train, y_train)\n",
    "rf_raw_yhat = rf.predict(x_test)"
   ]
  },
  {
   "cell_type": "code",
   "execution_count": null,
   "metadata": {},
   "outputs": [],
   "source": [
    "rf_raw_accuracy = accuracy_score(y_test, rf_raw_yhat)\n",
    "rf_raw_f1 = f1_score(y_test, rf_raw_yhat, average=\"macro\")\n",
    "(rf_raw_accuracy, rf_raw_f1)"
   ]
  },
  {
   "cell_type": "code",
   "execution_count": null,
   "metadata": {},
   "outputs": [],
   "source": [
    "with open('v2_output/rf_raw_acc.pkl', 'wb') as f:\n",
    "    pickle.dump(rf_raw_accuracy, f)\n",
    "    \n",
    "with open('v2_output/rf_raw_f1.pkl', 'wb') as f:\n",
    "    pickle.dump(rf_raw_f1, f)"
   ]
  },
  {
   "cell_type": "code",
   "execution_count": null,
   "metadata": {},
   "outputs": [],
   "source": [
    "with open('v2_output/rf_raw_yhat.pkl', 'wb') as f:\n",
    "    pickle.dump(rf_raw_yhat, f)"
   ]
  },
  {
   "cell_type": "markdown",
   "metadata": {},
   "source": [
    "### Performance on PCA embeddings"
   ]
  },
  {
   "cell_type": "code",
   "execution_count": null,
   "metadata": {},
   "outputs": [],
   "source": [
    "from sklearn.decomposition import PCA"
   ]
  },
  {
   "cell_type": "code",
   "execution_count": null,
   "metadata": {},
   "outputs": [],
   "source": [
    "pca = PCA(n_components=40)\n",
    "pca.fit(x_train)"
   ]
  },
  {
   "cell_type": "code",
   "execution_count": null,
   "metadata": {},
   "outputs": [],
   "source": [
    "train_comp = pca.transform(x_train)"
   ]
  },
  {
   "cell_type": "code",
   "execution_count": null,
   "metadata": {},
   "outputs": [],
   "source": [
    "test_comp = pca.transform(x_test)"
   ]
  },
  {
   "cell_type": "code",
   "execution_count": null,
   "metadata": {},
   "outputs": [],
   "source": [
    "pc40 = (train_comp, test_comp)"
   ]
  },
  {
   "cell_type": "code",
   "execution_count": null,
   "metadata": {},
   "outputs": [],
   "source": [
    "with open('v2_output/pc40.pkl', 'wb') as f:\n",
    "    pickle.dump(pc40, f)"
   ]
  },
  {
   "cell_type": "markdown",
   "metadata": {},
   "source": [
    "#### SVM/MLR/LDA/QDA"
   ]
  },
  {
   "cell_type": "code",
   "execution_count": null,
   "metadata": {},
   "outputs": [],
   "source": [
    "svm_pca_acc = []\n",
    "svm_pca_f1 = []\n",
    "\n",
    "mlr_pca_acc = []\n",
    "mlr_pca_f1 = []\n",
    "\n",
    "lda_pca_acc = []\n",
    "lda_pca_f1 = []\n",
    "\n",
    "qda_pca_acc = []\n",
    "qda_pca_f1 = []"
   ]
  },
  {
   "cell_type": "code",
   "execution_count": null,
   "metadata": {},
   "outputs": [],
   "source": [
    "def compute_accuracy_pca(pc, y_train, y_test, acc, f1, classifier):\n",
    "    \n",
    "    #select classifier\n",
    "    if classifier == \"svm\":\n",
    "        svm = SVC(random_state=1)\n",
    "        svm.fit(pc[0], y_train)\n",
    "        raw_yhat = svm.predict(pc[1])\n",
    "        \n",
    "    if classifier == \"mlr\":\n",
    "        mlr = LogisticRegression(random_state=1)\n",
    "        mlr.fit(pc[0], y_train)\n",
    "        raw_yhat = mlr.predict(pc[1])\n",
    "        \n",
    "    if classifier == \"lda\":\n",
    "        lda = LinearDiscriminantAnalysis()\n",
    "        lda.fit(pc[0], y_train)\n",
    "        raw_yhat = lda.predict(pc[1])\n",
    "        \n",
    "    if classifier == \"qda\":\n",
    "        qda = QuadraticDiscriminantAnalysis()\n",
    "        qda.fit(pc[0], y_train)\n",
    "        raw_yhat = qda.predict(pc[1])\n",
    "    \n",
    "    acc.append(accuracy_score(y_test, raw_yhat))\n",
    "    f1.append(f1_score(y_test, raw_yhat, average=\"macro\"))"
   ]
  },
  {
   "cell_type": "code",
   "execution_count": null,
   "metadata": {},
   "outputs": [],
   "source": [
    "%%time\n",
    "compute_accuracy_pca(pc1, y_train, y_test, svm_pca_acc, svm_pca_f1, \"svm\")\n",
    "compute_accuracy_pca(pc2, y_train, y_test, svm_pca_acc, svm_pca_f1, \"svm\")\n",
    "compute_accuracy_pca(pc10, y_train, y_test, svm_pca_acc, svm_pca_f1, \"svm\")\n",
    "compute_accuracy_pca(pc25, y_train, y_test, svm_pca_acc, svm_pca_f1, \"svm\")\n",
    "compute_accuracy_pca(pc40, y_train, y_test, svm_pca_acc, svm_pca_f1, \"svm\")"
   ]
  },
  {
   "cell_type": "code",
   "execution_count": null,
   "metadata": {},
   "outputs": [],
   "source": [
    "with open('v2_output/svm_pca_acc.pkl', 'wb') as f:\n",
    "    pickle.dump(svm_pca_acc, f)\n",
    "\n",
    "with open('v2_output/svm_pca_f1.pkl', 'wb') as f:\n",
    "    pickle.dump(svm_pca_f1, f)"
   ]
  },
  {
   "cell_type": "code",
   "execution_count": null,
   "metadata": {},
   "outputs": [],
   "source": [
    "%%time\n",
    "compute_accuracy_pca(pc1, y_train, y_test, mlr_pca_acc, mlr_pca_f1, \"mlr\")\n",
    "compute_accuracy_pca(pc2, y_train, y_test, mlr_pca_acc, mlr_pca_f1, \"mlr\")\n",
    "compute_accuracy_pca(pc10, y_train, y_test, mlr_pca_acc, mlr_pca_f1, \"mlr\")\n",
    "compute_accuracy_pca(pc25, y_train, y_test, mlr_pca_acc, mlr_pca_f1, \"mlr\")\n",
    "compute_accuracy_pca(pc40, y_train, y_test, mlr_pca_acc, mlr_pca_f1, \"mlr\")"
   ]
  },
  {
   "cell_type": "code",
   "execution_count": null,
   "metadata": {},
   "outputs": [],
   "source": [
    "with open('v2_output/mlr_pca_acc.pkl', 'wb') as f:\n",
    "    pickle.dump(mlr_pca_acc, f)\n",
    "\n",
    "with open('v2_output/mlr_pca_f1.pkl', 'wb') as f:\n",
    "    pickle.dump(mlr_pca_f1, f)"
   ]
  },
  {
   "cell_type": "code",
   "execution_count": null,
   "metadata": {},
   "outputs": [],
   "source": [
    "%%time\n",
    "compute_accuracy_pca(pc1, y_train, y_test, lda_pca_acc, lda_pca_f1, \"lda\")\n",
    "compute_accuracy_pca(pc2, y_train, y_test, lda_pca_acc, lda_pca_f1, \"lda\")\n",
    "compute_accuracy_pca(pc10, y_train, y_test, lda_pca_acc, lda_pca_f1, \"lda\")\n",
    "compute_accuracy_pca(pc25, y_train, y_test, lda_pca_acc, lda_pca_f1, \"lda\")\n",
    "compute_accuracy_pca(pc40, y_train, y_test, lda_pca_acc, lda_pca_f1, \"lda\")"
   ]
  },
  {
   "cell_type": "code",
   "execution_count": null,
   "metadata": {},
   "outputs": [],
   "source": [
    "with open('v2_output/lda_pca_acc.pkl', 'wb') as f:\n",
    "    pickle.dump(lda_pca_acc, f)\n",
    "\n",
    "with open('v2_output/lda_pca_f1.pkl', 'wb') as f:\n",
    "    pickle.dump(lda_pca_f1, f)"
   ]
  },
  {
   "cell_type": "code",
   "execution_count": null,
   "metadata": {},
   "outputs": [],
   "source": [
    "%%time\n",
    "compute_accuracy_pca(pc1, y_train, y_test, qda_pca_acc, qda_pca_f1, \"qda\")\n",
    "compute_accuracy_pca(pc2, y_train, y_test, qda_pca_acc, qda_pca_f1, \"qda\")\n",
    "compute_accuracy_pca(pc10, y_train, y_test, qda_pca_acc, qda_pca_f1, \"qda\")\n",
    "compute_accuracy_pca(pc25, y_train, y_test, qda_pca_acc, qda_pca_f1, \"qda\")\n",
    "compute_accuracy_pca(pc40, y_train, y_test, qda_pca_acc, qda_pca_f1, \"qda\")"
   ]
  },
  {
   "cell_type": "code",
   "execution_count": null,
   "metadata": {},
   "outputs": [],
   "source": [
    "with open('v2_output/qda_pca_acc.pkl', 'wb') as f:\n",
    "    pickle.dump(qda_pca_acc, f)\n",
    "\n",
    "with open('v2_output/qda_pca_f1.pkl', 'wb') as f:\n",
    "    pickle.dump(qda_pca_f1, f)"
   ]
  },
  {
   "cell_type": "markdown",
   "metadata": {},
   "source": [
    "#### RF"
   ]
  },
  {
   "cell_type": "code",
   "execution_count": null,
   "metadata": {},
   "outputs": [],
   "source": [
    "rf_pca_accuracy = []\n",
    "rf_pca_f1 = []"
   ]
  },
  {
   "cell_type": "code",
   "execution_count": null,
   "metadata": {},
   "outputs": [],
   "source": [
    "def compute_accuracy_pca(pc, y_train, y_test, acc, f1):\n",
    "\n",
    "    from sklearn.ensemble import RandomForestClassifier\n",
    "\n",
    "    rf = RandomForestClassifier(random_state=1)\n",
    "    rf.fit(pc[0], y_train)\n",
    "    rf_raw_yhat = rf.predict(pc[1])\n",
    "    \n",
    "    acc.append(accuracy_score(y_test, rf_raw_yhat))\n",
    "    f1.append(f1_score(y_test, rf_raw_yhat, average=\"macro\"))"
   ]
  },
  {
   "cell_type": "code",
   "execution_count": null,
   "metadata": {},
   "outputs": [],
   "source": [
    "%%time\n",
    "compute_accuracy_pca(pc1, y_train, y_test, rf_pca_accuracy, rf_pca_f1)\n",
    "compute_accuracy_pca(pc2, y_train, y_test, rf_pca_accuracy, rf_pca_f1)\n",
    "compute_accuracy_pca(pc10, y_train, y_test, rf_pca_accuracy, rf_pca_f1)\n",
    "compute_accuracy_pca(pc25, y_train, y_test, rf_pca_accuracy, rf_pca_f1)\n",
    "compute_accuracy_pca(pc40, y_train, y_test, rf_pca_accuracy, rf_pca_f1)"
   ]
  },
  {
   "cell_type": "markdown",
   "metadata": {},
   "source": [
    "#### KNN"
   ]
  },
  {
   "cell_type": "code",
   "execution_count": null,
   "metadata": {},
   "outputs": [],
   "source": [
    "knn_pca_accuracy = []\n",
    "knn_pca_f1 = []"
   ]
  },
  {
   "cell_type": "code",
   "execution_count": null,
   "metadata": {},
   "outputs": [],
   "source": [
    "def compute_accuracy_pca(pc, y_train, y_test, acc, f1):\n",
    "    \n",
    "    from sklearn.neighbors import KNeighborsClassifier\n",
    "\n",
    "    knn = KNeighborsClassifier(n_neighbors=5)\n",
    "    knn.fit(pc[0], y_train)\n",
    "    knn_raw_yhat = knn.predict(pc[1])\n",
    "\n",
    "    acc.append(accuracy_score(y_test, knn_raw_yhat))\n",
    "    f1.append(f1_score(y_test, knn_raw_yhat, average=\"macro\"))  "
   ]
  },
  {
   "cell_type": "code",
   "execution_count": null,
   "metadata": {},
   "outputs": [],
   "source": [
    "compute_accuracy_pca(pc1, y_train, y_test, knn_pca_accuracy, knn_pca_f1)\n",
    "compute_accuracy_pca(pc2, y_train, y_test, knn_pca_accuracy, knn_pca_f1)\n",
    "compute_accuracy_pca(pc10, y_train, y_test, knn_pca_accuracy, knn_pca_f1)\n",
    "compute_accuracy_pca(pc25, y_train, y_test, knn_pca_accuracy, knn_pca_f1)\n",
    "compute_accuracy_pca(pc40, y_train, y_test, knn_pca_accuracy, knn_pca_f1)"
   ]
  },
  {
   "cell_type": "code",
   "execution_count": null,
   "metadata": {},
   "outputs": [],
   "source": [
    "with open('v2_output/rf_pca_acc.pkl', 'wb') as f:\n",
    "    pickle.dump(rf_pca_accuracy, f)"
   ]
  },
  {
   "cell_type": "code",
   "execution_count": null,
   "metadata": {},
   "outputs": [],
   "source": [
    "with open('v2_output/rf_pca_f1.pkl', 'wb') as f:\n",
    "    pickle.dump(rf_pca_f1, f)"
   ]
  },
  {
   "cell_type": "markdown",
   "metadata": {},
   "source": [
    "### Performance on UMAP embeddings"
   ]
  },
  {
   "cell_type": "markdown",
   "metadata": {},
   "source": [
    "#### Compute embeddings"
   ]
  },
  {
   "cell_type": "code",
   "execution_count": null,
   "metadata": {},
   "outputs": [],
   "source": [
    "#compute training and test embeddings\n",
    "#embeddings are stored in dict_emb\n",
    "\n",
    "def compute_embeddings(x_train, x_test, dimensions, neigbors, seed, dict_emb):\n",
    "    \n",
    "    \n",
    "    embedder = umap.UMAP(n_neighbors=neigbors, n_components=dimensions, random_state=seed).fit(x_train)\n",
    "    \n",
    "    train_embedding = embedder.embedding_\n",
    "    \n",
    "    test_embedding = embedder.transform(x_test)\n",
    "    \n",
    "    key = \"d\"+str(dimensions)+\"n\"+str(neigbors)\n",
    "    \n",
    "    dict_emb[key] = (train_embedding, test_embedding)\n",
    "    \n",
    "    \n",
    "    print(key)\n",
    "    "
   ]
  },
  {
   "cell_type": "code",
   "execution_count": null,
   "metadata": {},
   "outputs": [],
   "source": [
    "import random\n",
    "random.seed(2678136)\n",
    "\n",
    "#Generate 20 random numbers and list them\n",
    "seed_list = random.sample(range(10**0, 10**6), 20)\n",
    "\n",
    "#for Hochgerner only one seed is used because it takes too long to repeat for multiple seed numbers\n",
    "seed=[seed_list[0]]"
   ]
  },
  {
   "cell_type": "code",
   "execution_count": null,
   "metadata": {},
   "outputs": [],
   "source": [
    "dim=[1,2,10,25,40]\n",
    "neigh=[2, 5, 15, 25, 50, 75, 100]"
   ]
  },
  {
   "cell_type": "code",
   "execution_count": null,
   "metadata": {},
   "outputs": [],
   "source": [
    "#create combinations of number of dimensions and number of neighbors \n",
    "a = [dim,neigh,seed]\n",
    "test_paramters=list(itertools.product(*a))"
   ]
  },
  {
   "cell_type": "code",
   "execution_count": null,
   "metadata": {},
   "outputs": [],
   "source": [
    "test_paramters"
   ]
  },
  {
   "cell_type": "code",
   "execution_count": null,
   "metadata": {},
   "outputs": [],
   "source": [
    "#create empty dictionary to store embeddings\n",
    "dict_emb = {}"
   ]
  },
  {
   "cell_type": "code",
   "execution_count": null,
   "metadata": {},
   "outputs": [],
   "source": [
    "%%time\n",
    "for i in range(len(test_paramters)):\n",
    "    compute_embeddings(x_train, x_test, test_paramters[i][0], test_paramters[i][1],\n",
    "                       test_paramters[i][2], dict_emb)"
   ]
  },
  {
   "cell_type": "code",
   "execution_count": null,
   "metadata": {},
   "outputs": [],
   "source": [
    "#save dictionary which contains a training embedding and test embeddind for every hyperparameter combination\n",
    "with open('v2_output/Hochgerner_emb_0.pkl', 'wb') as f:\n",
    "    pickle.dump(dict_emb, f)"
   ]
  },
  {
   "cell_type": "markdown",
   "metadata": {},
   "source": [
    "#### Compute accuracy and F1-score"
   ]
  },
  {
   "cell_type": "markdown",
   "metadata": {},
   "source": [
    "##### SVM/MLR/LDA/QDA"
   ]
  },
  {
   "cell_type": "code",
   "execution_count": null,
   "metadata": {},
   "outputs": [],
   "source": [
    "#create empty dictionaries to store accuracy and F1 scores\n",
    "\n",
    "dict_svm_acc = {}\n",
    "dict_mlr_acc = {}\n",
    "dict_lda_acc = {}\n",
    "dict_qda_acc = {}\n",
    "\n",
    "dict_svm_f1 = {}\n",
    "dict_mlr_f1 = {}\n",
    "dict_lda_f1 = {}\n",
    "dict_qda_f1 = {}"
   ]
  },
  {
   "cell_type": "code",
   "execution_count": null,
   "metadata": {},
   "outputs": [],
   "source": [
    "#fit classification models and compute accuracy and f1 scores\n",
    "\n",
    "def compute_accuracy_scores(key, train_embedding, test_embedding, y_train, y_test, \n",
    "                            svm_acc, mlr_acc, lda_acc, qda_acc, \n",
    "                            svm_f1, mlr_f1, lda_f1, qda_f1):\n",
    "    \n",
    "\n",
    "    \n",
    "    #fit classifiers\n",
    "    \n",
    "    svm_umap = SVC(random_state=1)\n",
    "    svm_umap.fit(train_embedding, y_train)\n",
    "    svm_yhat = svm_umap.predict(test_embedding)\n",
    "    \n",
    "    mlr_umap = LogisticRegression(random_state=1)\n",
    "    mlr_umap.fit(train_embedding, y_train)\n",
    "    mlr_yhat = mlr_umap.predict(test_embedding)\n",
    "    \n",
    "    lda_umap = LinearDiscriminantAnalysis()\n",
    "    lda_umap.fit(train_embedding, y_train)\n",
    "    lda_yhat = lda_umap.predict(test_embedding)\n",
    "    \n",
    "    qda_umap = QuadraticDiscriminantAnalysis()\n",
    "    qda_umap.fit(train_embedding, y_train)\n",
    "    qda_yhat = qda_umap.predict(test_embedding)\n",
    "    \n",
    "\n",
    "    #compute scores\n",
    "    \n",
    "    svm_acc[key] = [accuracy_score(y_test, svm_yhat)]\n",
    "    svm_f1[key] = [f1_score(y_test, svm_yhat, average=\"macro\")]\n",
    "\n",
    "    mlr_acc[key] = [accuracy_score(y_test, mlr_yhat)]\n",
    "    mlr_f1[key] = [f1_score(y_test, mlr_yhat, average=\"macro\")]\n",
    "\n",
    "    lda_acc[key] = [accuracy_score(y_test, lda_yhat)]\n",
    "    lda_f1[key] = [f1_score(y_test, lda_yhat, average=\"macro\")]\n",
    "\n",
    "    qda_acc[key] = [accuracy_score(y_test, qda_yhat)]\n",
    "    qda_f1[key] = [f1_score(y_test, qda_yhat, average=\"macro\")]\n"
   ]
  },
  {
   "cell_type": "code",
   "execution_count": null,
   "metadata": {},
   "outputs": [],
   "source": [
    "#fit classification models and compute accuracy and f1 scores\n",
    "\n",
    "def compute_accuracy_scores(key, train_embedding, test_embedding, y_train, y_test, \n",
    "                            svm_acc, mlr_acc, lda_acc, qda_acc, \n",
    "                            svm_f1, mlr_f1, lda_f1, qda_f1):\n",
    "\n",
    "    \n",
    "    #fit classifiers\n",
    "    \n",
    "    svm_umap = SVC(random_state=1)\n",
    "    svm_umap.fit(train_embedding, y_train)\n",
    "    svm_yhat = svm_umap.predict(test_embedding)\n",
    "    \n",
    "    mlr_umap = LogisticRegression(random_state=1)\n",
    "    mlr_umap.fit(train_embedding, y_train)\n",
    "    mlr_yhat = mlr_umap.predict(test_embedding)\n",
    "    \n",
    "    lda_umap = LinearDiscriminantAnalysis()\n",
    "    lda_umap.fit(train_embedding, y_train)\n",
    "    lda_yhat = lda_umap.predict(test_embedding)\n",
    "    \n",
    "    qda_umap = QuadraticDiscriminantAnalysis()\n",
    "    qda_umap.fit(train_embedding, y_train)\n",
    "    qda_yhat = qda_umap.predict(test_embedding)\n",
    "    \n",
    "\n",
    " \n",
    "    #compute scores\n",
    "\n",
    "    svm_acc[key].append(accuracy_score(y_test, svm_yhat))\n",
    "    svm_f1[key].append(f1_score(y_test, svm_yhat, average=\"macro\"))\n",
    "\n",
    "    mlr_acc[key].append(accuracy_score(y_test, mlr_yhat))\n",
    "    mlr_f1[key].append(f1_score(y_test, mlr_yhat, average=\"macro\"))\n",
    "\n",
    "    qda_acc[key].append(accuracy_score(y_test, qda_yhat))\n",
    "    qda_f1[key].append(f1_score(y_test, qda_yhat, average=\"macro\"))\n",
    "\n",
    "    lda_acc[key].append(accuracy_score(y_test, lda_yhat))\n",
    "    lda_f1[key].append(f1_score(y_test, lda_yhat, average=\"macro\"))\n"
   ]
  },
  {
   "cell_type": "code",
   "execution_count": null,
   "metadata": {},
   "outputs": [],
   "source": [
    "with open('v2_output/Hochgerner_emb_0.pkl', 'rb') as f:\n",
    "    dict_emb = pickle.load(f)"
   ]
  },
  {
   "cell_type": "code",
   "execution_count": null,
   "metadata": {},
   "outputs": [],
   "source": [
    "test_parameters_accuracy = list(dict_emb.keys())\n",
    "test_parameters_accuracy"
   ]
  },
  {
   "cell_type": "code",
   "execution_count": null,
   "metadata": {},
   "outputs": [],
   "source": [
    "#run function for every hyperparameter combinations\n",
    "for i in range(len(test_parameters_accuracy)):\n",
    "    compute_accuracy_scores(test_parameters_accuracy[i], dict_emb[test_parameters_accuracy[i]][0], \n",
    "                       dict_emb[test_parameters_accuracy[i]][1], \n",
    "                       y_train, y_test, \n",
    "                       dict_svm_acc, dict_mlr_acc, dict_lda_acc, dict_qda_acc, \n",
    "                        dict_svm_f1, dict_mlr_f1, dict_lda_f1, dict_qda_f1)\n"
   ]
  },
  {
   "cell_type": "code",
   "execution_count": null,
   "metadata": {},
   "outputs": [],
   "source": [
    "#save dictionaries which stores performance scores for each hyperparameter combination\n",
    "\n",
    "with open('v2_output/svm_umap_acc.pkl', 'wb') as f:\n",
    "    pickle.dump(dict_svm_acc, f)\n",
    "with open('v2_output/svm_umap_f1.pkl', 'wb') as f:\n",
    "    pickle.dump(dict_svm_f1, f)\n",
    "    \n",
    "with open('v2_output/mlr_umap_acc.pkl', 'wb') as f:\n",
    "    pickle.dump(dict_mlr_acc, f)\n",
    "with open('v2_output/mlr_umap_f1.pkl', 'wb') as f:\n",
    "    pickle.dump(dict_mlr_f1, f)\n",
    "    \n",
    "with open('v2_output/lda_umap_acc.pkl', 'wb') as f:\n",
    "    pickle.dump(dict_lda_acc, f)\n",
    "with open('v2_output/lda_umap_f1.pkl', 'wb') as f:\n",
    "    pickle.dump(dict_lda_f1, f)\n",
    "    \n",
    "with open('v2_output/qda_umap_acc.pkl', 'wb') as f:\n",
    "    pickle.dump(dict_qda_acc, f)\n",
    "with open('v2_output/qda_umap_f1.pkl', 'wb') as f:\n",
    "    pickle.dump(dict_qda_f1, f)\n"
   ]
  },
  {
   "cell_type": "markdown",
   "metadata": {},
   "source": [
    "##### RF/KNN"
   ]
  },
  {
   "cell_type": "code",
   "execution_count": null,
   "metadata": {},
   "outputs": [],
   "source": [
    "#rf+KNN\n",
    "dict_rf_acc = {}\n",
    "dict_knn2_acc = {}\n",
    "dict_knn5_acc = {}\n",
    "dict_knn15_acc = {}\n",
    "dict_knn25_acc = {}\n",
    "dict_knn50_acc = {}\n",
    "dict_knn75_acc = {}\n",
    "dict_knn100_acc = {}"
   ]
  },
  {
   "cell_type": "code",
   "execution_count": null,
   "metadata": {},
   "outputs": [],
   "source": [
    "#rf+KNN\n",
    "dict_rf_f1 = {}\n",
    "dict_knn2_f1 = {}\n",
    "dict_knn5_f1 = {}\n",
    "dict_knn15_f1 = {}\n",
    "dict_knn25_f1 = {}\n",
    "dict_knn50_f1 = {}\n",
    "dict_knn75_f1 = {}\n",
    "dict_knn100_f1 = {}"
   ]
  },
  {
   "cell_type": "code",
   "execution_count": null,
   "metadata": {},
   "outputs": [],
   "source": [
    "#fit classification models and compute accuracy and f1 scores\n",
    "\n",
    "\n",
    "def compute_accuracy_scores(key, train_embedding, test_embedding, y_train, y_test, \n",
    "                            rf_acc, knn2_acc, knn5_acc, knn15_acc, \n",
    "                            knn25_acc, knn50_acc, knn75_acc, knn100_acc,\n",
    "                            rf_f1, knn2_f1, knn5_f1, knn15_f1, \n",
    "                            knn25_f1, knn50_f1, knn75_f1, knn100_f1):\n",
    "    \n",
    "\n",
    "    from sklearn.neighbors import KNeighborsClassifier\n",
    "    from sklearn.ensemble import RandomForestClassifier\n",
    "    \n",
    "    #fit classifiers\n",
    "    \n",
    "    rf_umap = RandomForestClassifier(random_state=1)\n",
    "    rf_umap.fit(train_embedding, y_train)\n",
    "    rf_yhat = rf_umap.predict(test_embedding)\n",
    "    \n",
    "    knn2_umap = KNeighborsClassifier(n_neighbors=2)\n",
    "    knn2_umap.fit(train_embedding, y_train)\n",
    "    knn2_yhat = knn2_umap.predict(test_embedding)\n",
    "    \n",
    "    knn5_umap = KNeighborsClassifier(n_neighbors=5)\n",
    "    knn5_umap.fit(train_embedding, y_train)\n",
    "    knn5_yhat = knn5_umap.predict(test_embedding)\n",
    "    \n",
    "    knn15_umap = KNeighborsClassifier(n_neighbors=15)\n",
    "    knn15_umap.fit(train_embedding, y_train)\n",
    "    knn15_yhat = knn15_umap.predict(test_embedding)\n",
    "    \n",
    "    knn25_umap = KNeighborsClassifier(n_neighbors=25)\n",
    "    knn25_umap.fit(train_embedding, y_train)\n",
    "    knn25_yhat = knn25_umap.predict(test_embedding)\n",
    "    \n",
    "    knn50_umap = KNeighborsClassifier(n_neighbors=50)\n",
    "    knn50_umap.fit(train_embedding, y_train)\n",
    "    knn50_yhat = knn50_umap.predict(test_embedding)\n",
    "\n",
    "    knn75_umap = KNeighborsClassifier(n_neighbors=75)\n",
    "    knn75_umap.fit(train_embedding, y_train)\n",
    "    knn75_yhat = knn75_umap.predict(test_embedding)\n",
    "\n",
    "    knn100_umap = KNeighborsClassifier(n_neighbors=100)\n",
    "    knn100_umap.fit(train_embedding, y_train)\n",
    "    knn100_yhat = knn100_umap.predict(test_embedding)\n",
    "\n",
    " \n",
    "    #compute scores\n",
    "    \n",
    "    rf_acc[key] = [accuracy_score(y_test, rf_yhat)]\n",
    "    rf_f1[key] = [f1_score(y_test, rf_yhat, average=\"macro\")]\n",
    "\n",
    "    knn2_acc[key] = [accuracy_score(y_test, knn2_yhat)]\n",
    "    knn2_f1[key] = [f1_score(y_test, knn2_yhat, average=\"macro\")]\n",
    "\n",
    "    knn5_acc[key] = [accuracy_score(y_test, knn5_yhat)]\n",
    "    knn5_f1[key] = [f1_score(y_test, knn5_yhat, average=\"macro\")]\n",
    "\n",
    "    knn15_acc[key] = [accuracy_score(y_test, knn15_yhat)]\n",
    "    knn15_f1[key] = [f1_score(y_test, knn15_yhat, average=\"macro\")]\n",
    "\n",
    "    knn25_acc[key] = [accuracy_score(y_test, knn25_yhat)]\n",
    "    knn25_f1[key] = [f1_score(y_test, knn25_yhat, average=\"macro\")]\n",
    "\n",
    "    knn50_acc[key] = [accuracy_score(y_test, knn50_yhat)]\n",
    "    knn50_f1[key] = [f1_score(y_test, knn50_yhat, average=\"macro\")]\n",
    "\n",
    "    knn75_acc[key] = [accuracy_score(y_test, knn75_yhat)]\n",
    "    knn75_f1[key] = [f1_score(y_test, knn75_yhat, average=\"macro\")]\n",
    "\n",
    "    knn100_acc[key] = [accuracy_score(y_test, knn100_yhat)]\n",
    "    knn100_f1[key] = [f1_score(y_test, knn100_yhat, average=\"macro\")]\n",
    "\n"
   ]
  },
  {
   "cell_type": "code",
   "execution_count": null,
   "metadata": {},
   "outputs": [],
   "source": [
    "#fit classification models and compute accuracy and f1 scores\n",
    "\n",
    "def compute_accuracy_scores(key, train_embedding, test_embedding, y_train, y_test, \n",
    "                            rf_acc, knn2_acc, knn5_acc, knn15_acc, \n",
    "                            knn25_acc, knn50_acc, knn75_acc, knn100_acc,\n",
    "                            rf_f1, knn2_f1, knn5_f1, knn15_f1, \n",
    "                            knn25_f1, knn50_f1, knn75_f1, knn100_f1):\n",
    "    \n",
    "\n",
    "    from sklearn.neighbors import KNeighborsClassifier\n",
    "    from sklearn.ensemble import RandomForestClassifier\n",
    "    \n",
    "    #fit classifiers\n",
    "    \n",
    "    rf_umap = RandomForestClassifier(random_state=1)\n",
    "    rf_umap.fit(train_embedding, y_train)\n",
    "    rf_yhat = rf_umap.predict(test_embedding)\n",
    "    \n",
    "    knn2_umap = KNeighborsClassifier(n_neighbors=2)\n",
    "    knn2_umap.fit(train_embedding, y_train)\n",
    "    knn2_yhat = knn2_umap.predict(test_embedding)\n",
    "    \n",
    "    knn5_umap = KNeighborsClassifier(n_neighbors=5)\n",
    "    knn5_umap.fit(train_embedding, y_train)\n",
    "    knn5_yhat = knn5_umap.predict(test_embedding)\n",
    "    \n",
    "    knn15_umap = KNeighborsClassifier(n_neighbors=15)\n",
    "    knn15_umap.fit(train_embedding, y_train)\n",
    "    knn15_yhat = knn15_umap.predict(test_embedding)\n",
    "    \n",
    "    knn25_umap = KNeighborsClassifier(n_neighbors=25)\n",
    "    knn25_umap.fit(train_embedding, y_train)\n",
    "    knn25_yhat = knn25_umap.predict(test_embedding)\n",
    "    \n",
    "    knn50_umap = KNeighborsClassifier(n_neighbors=50)\n",
    "    knn50_umap.fit(train_embedding, y_train)\n",
    "    knn50_yhat = knn50_umap.predict(test_embedding)\n",
    "\n",
    "    knn75_umap = KNeighborsClassifier(n_neighbors=75)\n",
    "    knn75_umap.fit(train_embedding, y_train)\n",
    "    knn75_yhat = knn75_umap.predict(test_embedding)\n",
    "\n",
    "    knn100_umap = KNeighborsClassifier(n_neighbors=100)\n",
    "    knn100_umap.fit(train_embedding, y_train)\n",
    "    knn100_yhat = knn100_umap.predict(test_embedding)\n",
    "\n",
    " \n",
    "    #compute scores\n",
    "\n",
    "    rf_acc[key].append(accuracy_score(y_test, rf_yhat))\n",
    "    rf_f1[key].append(f1_score(y_test, rf_yhat, average=\"macro\"))\n",
    "\n",
    "    knn2_acc[key].append(accuracy_score(y_test, knn2_yhat))\n",
    "    knn2_f1[key].append(f1_score(y_test, knn2_yhat, average=\"macro\"))\n",
    "\n",
    "    knn5_acc[key].append(accuracy_score(y_test, knn5_yhat))\n",
    "    knn5_f1[key].append(f1_score(y_test, knn5_yhat, average=\"macro\"))\n",
    "\n",
    "    knn15_acc[key].append(accuracy_score(y_test, knn15_yhat))\n",
    "    knn15_f1[key].append(f1_score(y_test, knn15_yhat, average=\"macro\"))\n",
    "\n",
    "    knn25_acc[key].append(accuracy_score(y_test, knn25_yhat))\n",
    "    knn25_f1[key].append(f1_score(y_test, knn25_yhat, average=\"macro\"))\n",
    "\n",
    "    knn50_acc[key].append(accuracy_score(y_test, knn50_yhat))\n",
    "    knn50_f1[key].append(f1_score(y_test, knn50_yhat, average=\"macro\"))\n",
    "\n",
    "    knn75_acc[key].append(accuracy_score(y_test, knn75_yhat))\n",
    "    knn75_f1[key].append(f1_score(y_test, knn75_yhat, average=\"macro\"))\n",
    "\n",
    "    knn100_acc[key].append(accuracy_score(y_test, knn100_yhat))\n",
    "    knn100_f1[key].append(f1_score(y_test, knn100_yhat, average=\"macro\"))"
   ]
  },
  {
   "cell_type": "code",
   "execution_count": null,
   "metadata": {},
   "outputs": [],
   "source": [
    "test_parameters_accuracy = list(dict_emb.keys())\n",
    "test_parameters_accuracy"
   ]
  },
  {
   "cell_type": "code",
   "execution_count": null,
   "metadata": {},
   "outputs": [],
   "source": [
    "with open('v2_output/Hochgerner_emb_0.pkl', 'rb') as f:\n",
    "    dict_emb = pickle.load(f)"
   ]
  },
  {
   "cell_type": "code",
   "execution_count": null,
   "metadata": {},
   "outputs": [],
   "source": [
    "for i in range(len(test_parameters_accuracy)):\n",
    "    compute_accuracy_scores(test_parameters_accuracy[i], dict_emb[test_parameters_accuracy[i]][0], \n",
    "                       dict_emb[test_parameters_accuracy[i]][1], \n",
    "                       y_train, y_test, \n",
    "                       dict_rf_acc, dict_knn2_acc, dict_knn5_acc, dict_knn15_acc, \n",
    "                        dict_knn25_acc, dict_knn50_acc, dict_knn75_acc, dict_knn100_acc,\n",
    "                        dict_rf_f1, dict_knn2_f1, dict_knn5_f1, dict_knn15_f1, \n",
    "                        dict_knn25_f1, dict_knn50_f1, dict_knn75_f1, dict_knn100_f1)\n"
   ]
  },
  {
   "cell_type": "code",
   "execution_count": null,
   "metadata": {},
   "outputs": [],
   "source": [
    "with open('v2_output/rf_umap_acc.pkl', 'wb') as f:\n",
    "    pickle.dump(dict_rf_acc, f)\n",
    "with open('v2_output/rf_umap_f1.pkl', 'wb') as f:\n",
    "    pickle.dump(dict_rf_f1, f)\n",
    "    \n",
    "with open('v2_output/knn2_umap_acc.pkl', 'wb') as f:\n",
    "    pickle.dump(dict_knn2_acc, f)\n",
    "with open('v2_output/knn2_umap_f1.pkl', 'wb') as f:\n",
    "    pickle.dump(dict_knn2_f1, f)\n",
    "    \n",
    "with open('v2_output/knn5_umap_acc.pkl', 'wb') as f:\n",
    "    pickle.dump(dict_knn5_acc, f)\n",
    "with open('v2_output/knn5_umap_f1.pkl', 'wb') as f:\n",
    "    pickle.dump(dict_knn5_f1, f)\n",
    "    \n",
    "with open('v2_output/knn15_umap_acc.pkl', 'wb') as f:\n",
    "    pickle.dump(dict_knn15_acc, f)\n",
    "with open('v2_output/knn15_umap_f1.pkl', 'wb') as f:\n",
    "    pickle.dump(dict_knn15_f1, f)\n",
    "    \n",
    "with open('v2_output/knn25_umap_acc.pkl', 'wb') as f:\n",
    "    pickle.dump(dict_knn25_acc, f)\n",
    "with open('v2_output/knn25_umap_f1.pkl', 'wb') as f:\n",
    "    pickle.dump(dict_knn25_f1, f)\n",
    "    \n",
    "with open('v2_output/knn50_umap_acc.pkl', 'wb') as f:\n",
    "    pickle.dump(dict_knn50_acc, f)\n",
    "with open('v2_output/knn50_umap_f1.pkl', 'wb') as f:\n",
    "    pickle.dump(dict_knn50_f1, f)\n",
    "    \n",
    "with open('v2_output/knn75_umap_acc.pkl', 'wb') as f:\n",
    "    pickle.dump(dict_knn75_acc, f)\n",
    "with open('v2_output/knn75_umap_f1.pkl', 'wb') as f:\n",
    "    pickle.dump(dict_knn75_f1, f)\n",
    "    \n",
    "with open('v2_output/knn100_umap_acc.pkl', 'wb') as f:\n",
    "    pickle.dump(dict_knn100_acc, f)\n",
    "with open('v2_output/knn100_umap_f1.pkl', 'wb') as f:\n",
    "    pickle.dump(dict_knn100_f1, f)\n"
   ]
  },
  {
   "cell_type": "markdown",
   "metadata": {},
   "source": [
    "### Plot results"
   ]
  },
  {
   "cell_type": "code",
   "execution_count": null,
   "metadata": {},
   "outputs": [],
   "source": [
    "def create_table(scores):\n",
    "    values = {\n",
    "        'n2': [scores['d1n2'], scores['d2n2'], scores['d10n2'], scores['d25n2'], scores['d40n2']],\n",
    "        'n5': [scores['d1n5'], scores['d2n5'], scores['d10n5'], scores['d25n5'], scores['d40n5']],\n",
    "        'n15': [scores['d1n15'], scores['d2n15'], scores['d10n15'], scores['d25n15'], scores['d40n15']],\n",
    "        'n25': [scores['d1n25'], scores['d2n25'], scores['d10n25'], scores['d25n25'], scores['d40n25']],\n",
    "        'n50': [scores['d1n50'], scores['d2n50'], scores['d10n50'],scores['d25n50'], scores['d40n50']],\n",
    "        'n75': [scores['d1n75'], scores['d2n75'], scores['d10n75'], scores['d25n75'], scores['d40n75']],\n",
    "        'n100': [scores['d1n100'], scores['d2n100'], scores['d10n100'], scores['d25n100'], scores['d40n100']]\n",
    "                }\n",
    "    \n",
    "    table = pd.DataFrame(values, index=['d1','d2','d10','d25','d40'])\n",
    "\n",
    "    return table"
   ]
  },
  {
   "cell_type": "code",
   "execution_count": null,
   "metadata": {},
   "outputs": [],
   "source": [
    "def plot(table, accuracy_raw, accuracy_pca, name, path):\n",
    "    \n",
    "    t=np.array([2, 5, 15, 25, 50, 75, 100])\n",
    "    #labels=['d1','d2','d10', 'd25', 'd40', 'raw']\n",
    "    labels=['d1','d2','d10', 'd25', 'd40', 'pca1','pca2','pca10', 'pca25', 'pca40', 'raw']\n",
    "    \n",
    "    plt.figure(figsize = (7,4) )\n",
    "    ax = plt.gca()\n",
    "    ax.plot(t, list(chain.from_iterable(table.iloc[0,:])), color = 'red', label=labels[0], lw=1.5, marker='.')\n",
    "    \n",
    "    ax.plot(t, list(chain.from_iterable(table.iloc[1,:])), color = 'orange', label=labels[1], lw=1.5, marker='.')\n",
    "    \n",
    "    ax.plot(t, list(chain.from_iterable(table.iloc[2,:])), color = 'green', label=labels[2], lw=1.5, marker='.')\n",
    "    \n",
    "    ax.plot(t, list(chain.from_iterable(table.iloc[3,:])), color = 'dodgerblue', label=labels[3], lw=1.5, marker='.')\n",
    "    \n",
    "    ax.plot(t, list(chain.from_iterable(table.iloc[4,:])), color = 'violet', label=labels[4], lw=1.5, marker='.')\n",
    "    \n",
    "    plt.axhline(y=accuracy_pca[0], color='red', linestyle='--', label=labels[5])\n",
    "    plt.axhline(y=accuracy_pca[1], color='orange', linestyle='--', label=labels[6])\n",
    "    plt.axhline(y=accuracy_pca[2], color='green', linestyle='--', label=labels[7])\n",
    "    plt.axhline(y=accuracy_pca[3], color='dodgerblue', linestyle='--', label=labels[8])\n",
    "    plt.axhline(y=accuracy_pca[4], color='violet', linestyle='--', label=labels[9])\n",
    "    \n",
    "    plt.axhline(y=accuracy_raw, color='gray', linestyle='-.', label=labels[10])\n",
    "    \n",
    "    #plt.ylim(0.5, 1.01)\n",
    "    plt.ylim(0, 1.01)\n",
    "    \n",
    "    plt.xlabel(\"Number of neigbors\")\n",
    "    #plt.ylabel(\"Accuracy\")\n",
    "    plt.ylabel(\"F1 score\")\n",
    "    #legend_outside = plt.legend(bbox_to_anchor=(1.20,0.79), loc='right')\n",
    "    #plt.title(name)\n",
    "    \n",
    "    plt.savefig(path, facecolor='white', bbox_inches='tight', dpi=300)\n",
    "    #plt.show()    \n",
    "    "
   ]
  },
  {
   "cell_type": "code",
   "execution_count": null,
   "metadata": {},
   "outputs": [],
   "source": [
    "with open('v2_output/qda_raw_f1.pkl', 'rb') as f:\n",
    "    raw = pickle.load(f)"
   ]
  },
  {
   "cell_type": "code",
   "execution_count": null,
   "metadata": {},
   "outputs": [],
   "source": [
    "with open('v2_output/qda_pca_f1.pkl', 'rb') as f:\n",
    "    pca = pickle.load(f)"
   ]
  },
  {
   "cell_type": "code",
   "execution_count": null,
   "metadata": {},
   "outputs": [],
   "source": [
    "with open('v2_output/qda_umap_f1.pkl', 'rb') as f:\n",
    "    table_dict = pickle.load(f)"
   ]
  },
  {
   "cell_type": "code",
   "execution_count": null,
   "metadata": {},
   "outputs": [],
   "source": [
    "table_dict = create_table(table_dict)"
   ]
  },
  {
   "cell_type": "code",
   "execution_count": null,
   "metadata": {},
   "outputs": [],
   "source": [
    "plot(table_dict, raw, pca, '-', 'v2_output/qda_plot_f1_w')"
   ]
  },
  {
   "cell_type": "markdown",
   "metadata": {},
   "source": [
    "## Figures"
   ]
  },
  {
   "cell_type": "code",
   "execution_count": null,
   "metadata": {},
   "outputs": [],
   "source": [
    "y_testt = le.inverse_transform(y_test)"
   ]
  },
  {
   "cell_type": "code",
   "execution_count": null,
   "metadata": {},
   "outputs": [],
   "source": [
    "with open('v2_output/pc2.pkl', 'rb') as f:\n",
    "    pc = pickle.load(f)"
   ]
  },
  {
   "cell_type": "code",
   "execution_count": null,
   "metadata": {},
   "outputs": [],
   "source": [
    "with open('v2_output/Hochgerner_emb_0.pkl', 'rb') as f:\n",
    "    emb = pickle.load(f)"
   ]
  },
  {
   "cell_type": "code",
   "execution_count": null,
   "metadata": {},
   "outputs": [],
   "source": [
    "labels_legend = list(labels_copy.unique())\n",
    "labels_legend"
   ]
  },
  {
   "cell_type": "code",
   "execution_count": null,
   "metadata": {},
   "outputs": [],
   "source": [
    "color = ['#00B7FF', '#004DFF', '#00FFFF', '#826400', '#580041', '#FF00FF', '#00FF00', '#C500FF', '#B4FFD7',  \n",
    " '#FFCA00', '#969600', '#B4A2FF', '#C20078', '#0000C1', '#FF8B00', '#FFC8FF', '#666666', '#FF0000',  \n",
    " '#CCCCCC', '#009E8F', '#D7A870', '#8200FF', '#960000', '#BBFF00', '#FFFF00', '#006F00']"
   ]
  },
  {
   "cell_type": "code",
   "execution_count": null,
   "metadata": {},
   "outputs": [],
   "source": [
    "#color.remove('#ffff9a')"
   ]
  },
  {
   "cell_type": "code",
   "execution_count": null,
   "metadata": {},
   "outputs": [],
   "source": [
    "import random\n",
    "random.seed(3)\n",
    "random.shuffle(labels_legend)"
   ]
  },
  {
   "cell_type": "code",
   "execution_count": null,
   "metadata": {},
   "outputs": [],
   "source": [
    "labels_legend"
   ]
  },
  {
   "cell_type": "code",
   "execution_count": null,
   "metadata": {},
   "outputs": [],
   "source": [
    "color_dict = {}\n",
    "keys = labels_legend\n",
    "values = color\n",
    "for i in range(len(keys)):\n",
    "    color_dict[keys[i]] = values[i]\n",
    "print(color_dict)"
   ]
  },
  {
   "cell_type": "markdown",
   "metadata": {},
   "source": [
    "### training vs test data"
   ]
  },
  {
   "cell_type": "code",
   "execution_count": null,
   "metadata": {},
   "outputs": [],
   "source": [
    "y_trainn = le.inverse_transform(y_train)"
   ]
  },
  {
   "cell_type": "code",
   "execution_count": null,
   "metadata": {},
   "outputs": [],
   "source": [
    "#subplots\n",
    "\n",
    "# create figure\n",
    "fig, axes = plt.subplots(1, 2, figsize=(20, 10), sharey=False)\n",
    "\n",
    "\n",
    "# add subplots\n",
    "#plt.figure(figsize = (10,10) )\n",
    "sns.scatterplot(ax=axes[0], x=emb['d2n5'][0][:,0], y=emb['d2n5'][0][:,1], hue = y_trainn, palette=color_dict)\n",
    "axes[0].axis('equal')\n",
    "axes[0].set_title(\"Embedding of training data\", fontsize=45)\n",
    "axes[0].tick_params(axis='both', which='major', labelsize=22)\n",
    "\n",
    "sns.scatterplot(ax=axes[1], x=emb['d2n5'][1][:,0], y=emb['d2n5'][1][:,1], hue = y_testt, palette=color_dict)\n",
    "#axes[0].figure(figsize = (10,10) )\n",
    "axes[1].axis('equal')\n",
    "axes[1].set_title(\"Embedding of training data\", fontsize=45)\n",
    "axes[1].tick_params(axis='both', which='major', labelsize=22)\n",
    "\n",
    "#hide legend in subplots\n",
    "for ax in axes:\n",
    "    ax.legend([],[], frameon=False)\n",
    "\n",
    "    \n",
    "# add legend\n",
    "handles, labels = axes[0].get_legend_handles_labels()\n",
    "#fig.legend(handles, labels, loc='upper center',  ncol=12, bbox_to_anchor=(0.5, -0.01))\n",
    "\n",
    "\n",
    "fig.tight_layout()\n",
    "\n",
    "plt.savefig('v2_output/prediction_plots/train_vs_test2', facecolor='white', bbox_inches='tight', dpi=100)\n",
    "\n",
    "\n",
    "plt.show()"
   ]
  },
  {
   "cell_type": "markdown",
   "metadata": {},
   "source": [
    "###  2 dimensions vs 3 dimensions"
   ]
  },
  {
   "cell_type": "code",
   "execution_count": null,
   "metadata": {},
   "outputs": [],
   "source": [
    "x = test_emb[:,0]\n",
    "y = test_emb[:,1]\n",
    "z = test_emb[:,2]"
   ]
  },
  {
   "cell_type": "markdown",
   "metadata": {},
   "source": [
    "#### True labels"
   ]
  },
  {
   "cell_type": "code",
   "execution_count": null,
   "metadata": {},
   "outputs": [],
   "source": [
    "#subplots true\n",
    "\n",
    "# create figure\n",
    "fig, axes = plt.subplots(1, 3, figsize=(30, 10), sharey=False)\n",
    "\n",
    "\n",
    "# add subplots\n",
    "#plt.figure(figsize = (10,10) )\n",
    "sns.scatterplot(ax=axes[0], x=x, y=y, hue = y_testt, palette=color_dict)\n",
    "axes[0].axis('equal')\n",
    "axes[0].set_title(\"dim 1 vs dim 2\", fontsize=35)\n",
    "axes[0].tick_params(axis='both', which='major', labelsize=22)\n",
    "\n",
    "sns.scatterplot(ax=axes[1], x=y, y=z, hue = y_testt, palette=color_dict)\n",
    "#axes[0].figure(figsize = (10,10) )\n",
    "axes[1].axis('equal')\n",
    "axes[1].set_title(\"dim 2 vs dim 3\", fontsize=35)\n",
    "axes[1].tick_params(axis='both', which='major', labelsize=22)\n",
    "\n",
    "#plt.figure(figsize = (10,10) )\n",
    "sns.scatterplot(ax=axes[2], x=x, y=z, hue = y_testt, palette=color_dict)\n",
    "axes[2].axis('equal')\n",
    "axes[2].set_title(\"dim 1 vs dim 3\", fontsize=35)\n",
    "axes[2].tick_params(axis='both', which='major', labelsize=22)\n",
    "\n",
    "\n",
    "\n",
    "#hide legend in subplots\n",
    "for ax in axes:\n",
    "    ax.legend([],[], frameon=False)\n",
    "\n",
    "    \n",
    "# add legend\n",
    "handles, labels = axes[0].get_legend_handles_labels()\n",
    "#fig.legend(handles, labels, loc='lower center',  ncol=12, bbox_to_anchor=(0.5, -0.05))\n",
    "\n",
    "\n",
    "fig.tight_layout()\n",
    "\n",
    "plt.savefig('v2_output/prediction_plots/mlr_umap_d3n15_true_sub1', facecolor='white', bbox_inches='tight', dpi=None )\n",
    "\n",
    "\n",
    "plt.show()"
   ]
  },
  {
   "cell_type": "code",
   "execution_count": null,
   "metadata": {},
   "outputs": [],
   "source": [
    "#3d true\n",
    "from mpl_toolkits.mplot3d import Axes3D\n",
    "from matplotlib.colors import ListedColormap\n",
    "\n",
    "x = test_emb[:,0]\n",
    "y = test_emb[:,1]\n",
    "z = test_emb[:,2]\n",
    "\n",
    "df_3d = pd.DataFrame()\n",
    "df_3d['x'] = x\n",
    "df_3d['y'] = y\n",
    "df_3d['z'] = z\n",
    "df_3d['label'] = y_testt\n",
    "\n",
    "# axes instance\n",
    "fig = plt.figure(figsize=(10,10))\n",
    "ax = Axes3D(fig, auto_add_to_figure=False)\n",
    "fig.add_axes(ax)\n",
    "\n",
    "\n",
    "# plot\n",
    "sc = ax.scatter(x, y, z, s= 30, marker='o', alpha=1,  edgecolors = 'white', linewidths = 0.5, \n",
    "                c=df_3d['label'].map(color_dict))\n",
    "ax.set_xlabel('dim 1')\n",
    "ax.set_ylabel('dim 2')\n",
    "ax.set_zlabel('dim 3')\n",
    "\n",
    "\n",
    "\n",
    "# legend\n",
    "#plt.legend(*sc.legend_elements(), bbox_to_anchor=(0.1, 10))\n",
    "plt.savefig('v2_output/prediction_plots/mlr_umap_d3n15_true_2', facecolor='white', bbox_inches='tight', dpi=100)"
   ]
  },
  {
   "cell_type": "markdown",
   "metadata": {},
   "source": [
    "#### Predicted labels from d2n15"
   ]
  },
  {
   "cell_type": "code",
   "execution_count": null,
   "metadata": {},
   "outputs": [],
   "source": [
    "%%time\n",
    "mlr_umap = LogisticRegression(random_state=1)\n",
    "mlr_umap.fit(emb['d2n15'][0], y_train)\n",
    "mlr_umap_yhat = mlr_umap.predict(emb['d2n15'][1])\n",
    "mlr_umap_yhatt = le.inverse_transform(mlr_umap_yhat)"
   ]
  },
  {
   "cell_type": "code",
   "execution_count": null,
   "metadata": {},
   "outputs": [],
   "source": [
    "mlr_f1 = f1_score(y_test, mlr_umap_yhat, average=\"macro\")\n",
    "mlr_f1"
   ]
  },
  {
   "cell_type": "code",
   "execution_count": null,
   "metadata": {},
   "outputs": [],
   "source": [
    "#subplots d2n15 pred\n",
    "\n",
    "# create figure\n",
    "fig, axes = plt.subplots(1, 3, figsize=(30, 10), sharey=False)\n",
    "\n",
    "\n",
    "# add subplots\n",
    "#plt.figure(figsize = (10,10) )\n",
    "sns.scatterplot(ax=axes[0], x=x, y=y, hue = mlr_umap_yhatt, palette=color_dict)\n",
    "axes[0].axis('equal')\n",
    "axes[0].set_title(\"dim 1 vs dim 2\", fontsize=35)\n",
    "axes[0].tick_params(axis='both', which='major', labelsize=22)\n",
    "\n",
    "sns.scatterplot(ax=axes[1], x=y, y=z, hue = mlr_umap_yhatt, palette=color_dict)\n",
    "#axes[0].figure(figsize = (10,10) )\n",
    "axes[1].axis('equal')\n",
    "axes[1].set_title(\"dim 2 vs dim 3\", fontsize=35)\n",
    "axes[1].tick_params(axis='both', which='major', labelsize=22)\n",
    "\n",
    "#plt.figure(figsize = (10,10) )\n",
    "sns.scatterplot(ax=axes[2], x=x, y=z, hue = mlr_umap_yhatt, palette=color_dict)\n",
    "axes[2].axis('equal')\n",
    "axes[2].set_title(\"dim 1 vs dim 3\", fontsize=35)\n",
    "axes[2].tick_params(axis='both', which='major', labelsize=22)\n",
    "\n",
    "\n",
    "\n",
    "\n",
    "#hide legend in subplots\n",
    "for ax in axes:\n",
    "    ax.legend([],[], frameon=False)\n",
    "\n",
    "    \n",
    "# add legend\n",
    "handles, labels = axes[0].get_legend_handles_labels()\n",
    "#fig.legend(handles, labels, loc='lower center',  ncol=7, bbox_to_anchor=(0.5, -0.05))\n",
    "\n",
    "\n",
    "fig.tight_layout()\n",
    "\n",
    "plt.savefig('v2_output/prediction_plots/mlr_umap_d3n15_pred_d2n15_sub1', facecolor='white', bbox_inches='tight', dpi=None)\n",
    "\n",
    "\n",
    "plt.show()"
   ]
  },
  {
   "cell_type": "code",
   "execution_count": null,
   "metadata": {},
   "outputs": [],
   "source": [
    "#3d d2n15 pred\n",
    "from mpl_toolkits.mplot3d import Axes3D\n",
    "from matplotlib.colors import ListedColormap\n",
    "\n",
    "x = test_emb[:,0]\n",
    "y = test_emb[:,1]\n",
    "z = test_emb[:,2]\n",
    "\n",
    "df_3d = pd.DataFrame()\n",
    "df_3d['x'] = x\n",
    "df_3d['y'] = y\n",
    "df_3d['z'] = z\n",
    "df_3d['label'] = mlr_umap_yhatt\n",
    "\n",
    "# axes instance\n",
    "fig = plt.figure(figsize=(10,10))\n",
    "ax = Axes3D(fig, auto_add_to_figure=False)\n",
    "fig.add_axes(ax)\n",
    "\n",
    "\n",
    "# plot\n",
    "sc = ax.scatter(x, y, z, s= 30, marker='o', alpha=1,  edgecolors = 'white', linewidths = 0.5, \n",
    "                c=df_3d['label'].map(color_dict))\n",
    "ax.set_xlabel('dim 1')\n",
    "ax.set_ylabel('dim 2')\n",
    "ax.set_zlabel('dim 3')\n",
    "\n",
    "\n",
    "\n",
    "\n",
    "# legend\n",
    "#plt.legend(*sc.legend_elements(), bbox_to_anchor=(0.1, 10))\n",
    "plt.savefig('v2_output/prediction_plots/mlr_umap_d3n15_pred_d2n15_2', facecolor='white', bbox_inches='tight', dpi=100)"
   ]
  },
  {
   "cell_type": "markdown",
   "metadata": {},
   "source": [
    "#### Predicted labels from d3n15"
   ]
  },
  {
   "cell_type": "code",
   "execution_count": null,
   "metadata": {
    "scrolled": true
   },
   "outputs": [],
   "source": [
    "%%time\n",
    "embedder = umap.UMAP(n_components=3, n_neighbors=15, random_state=seed_list[0]).fit(x_train)\n",
    "train_emb = embedder.embedding_\n",
    "test_emb = embedder.transform(x_test)"
   ]
  },
  {
   "cell_type": "code",
   "execution_count": null,
   "metadata": {},
   "outputs": [],
   "source": [
    "with open('v2_output/3-dim/train_emb_d3n15.pkl', 'wb') as f:\n",
    "    pickle.dump(train_emb, f)\n",
    "with open('v2_output/3-dim/test_emb_d3n15.pkl', 'wb') as f:\n",
    "    pickle.dump(test_emb, f)"
   ]
  },
  {
   "cell_type": "code",
   "execution_count": null,
   "metadata": {},
   "outputs": [],
   "source": [
    "with open('v2_output/3-dim/train_emb_d3n15.pkl', 'rb') as f:\n",
    "    train_emb = pickle.load(f)"
   ]
  },
  {
   "cell_type": "code",
   "execution_count": null,
   "metadata": {},
   "outputs": [],
   "source": [
    "with open('v2_output/3-dim/test_emb_d3n15.pkl', 'rb') as f:\n",
    "    test_emb = pickle.load(f)"
   ]
  },
  {
   "cell_type": "code",
   "execution_count": null,
   "metadata": {},
   "outputs": [],
   "source": [
    "%%time\n",
    "mlr_umap = LogisticRegression(random_state=1)\n",
    "mlr_umap.fit(train_emb, y_train)\n",
    "mlr_umap_yhat = mlr_umap.predict(test_emb)\n",
    "mlr_umap_yhatt = le.inverse_transform(mlr_umap_yhat)"
   ]
  },
  {
   "cell_type": "code",
   "execution_count": null,
   "metadata": {},
   "outputs": [],
   "source": [
    "#mlr_raw_accuracy = accuracy_score(y_test, mlr_umap_yhat)\n",
    "mlr_f1 = f1_score(y_test, mlr_umap_yhat, average=\"macro\")\n",
    "mlr_f1"
   ]
  },
  {
   "cell_type": "code",
   "execution_count": null,
   "metadata": {},
   "outputs": [],
   "source": [
    "#subplots d3n15 pred\n",
    "\n",
    "# create figure\n",
    "fig, axes = plt.subplots(1, 3, figsize=(30, 10), sharey=False)\n",
    "\n",
    "\n",
    "# add subplots\n",
    "#plt.figure(figsize = (10,10) )\n",
    "sns.scatterplot(ax=axes[0], x=x, y=y, hue = mlr_umap_yhatt, palette=color_dict)\n",
    "axes[0].axis('equal')\n",
    "axes[0].set_title(\"dim 1 vs dim 2\", fontsize=35)\n",
    "axes[0].tick_params(axis='both', which='major', labelsize=22)\n",
    "\n",
    "sns.scatterplot(ax=axes[1], x=y, y=z, hue = mlr_umap_yhatt, palette=color_dict)\n",
    "#axes[0].figure(figsize = (10,10) )\n",
    "axes[1].axis('equal')\n",
    "axes[1].set_title(\"dim 2 vs dim 3\", fontsize=35)\n",
    "axes[1].tick_params(axis='both', which='major', labelsize=22)\n",
    "\n",
    "#plt.figure(figsize = (10,10) )\n",
    "sns.scatterplot(ax=axes[2], x=x, y=z, hue = mlr_umap_yhatt, palette=color_dict)\n",
    "axes[2].axis('equal')\n",
    "axes[2].set_title(\"dim 1 vs dim 3\", fontsize=35)\n",
    "axes[2].tick_params(axis='both', which='major', labelsize=22)\n",
    "\n",
    "\n",
    "\n",
    "\n",
    "#hide legend in subplots\n",
    "for ax in axes:\n",
    "    ax.legend([],[], frameon=False)\n",
    "\n",
    "    \n",
    "# add legend\n",
    "handles, labels = axes[0].get_legend_handles_labels()\n",
    "#fig.legend(handles, labels, loc='lower center',  ncol=10, bbox_to_anchor=(0.5, -0.05))\n",
    "\n",
    "\n",
    "fig.tight_layout()\n",
    "\n",
    "plt.savefig('v2_output/prediction_plots/mlr_umap_d3n15_pred_sub1', facecolor='white', bbox_inches='tight', dpi=None)\n",
    "\n",
    "\n",
    "plt.show()"
   ]
  },
  {
   "cell_type": "code",
   "execution_count": null,
   "metadata": {},
   "outputs": [],
   "source": [
    "#3d d3n15 pred\n",
    "from mpl_toolkits.mplot3d import Axes3D\n",
    "from matplotlib.colors import ListedColormap\n",
    "\n",
    "x = test_emb[:,0]\n",
    "y = test_emb[:,1]\n",
    "z = test_emb[:,2]\n",
    "\n",
    "df_3d = pd.DataFrame()\n",
    "df_3d['x'] = x\n",
    "df_3d['y'] = y\n",
    "df_3d['z'] = z\n",
    "df_3d['label'] = mlr_umap_yhatt\n",
    "\n",
    "# axes instance\n",
    "fig = plt.figure(figsize=(10,10))\n",
    "ax = Axes3D(fig, auto_add_to_figure=False)\n",
    "fig.add_axes(ax)\n",
    "\n",
    "\n",
    "# plot\n",
    "sc = ax.scatter(x, y, z, s= 30, marker='o', alpha=1,  edgecolors = 'white', linewidths = 0.5, \n",
    "                c=df_3d['label'].map(color_dict))\n",
    "ax.set_xlabel('dim 1')\n",
    "ax.set_ylabel('dim 2')\n",
    "ax.set_zlabel('dim 3')\n",
    "\n",
    "\n",
    "\n",
    "\n",
    "# legend\n",
    "#plt.legend(*sc.legend_elements(), bbox_to_anchor=(0.1, 10))\n",
    "plt.savefig('v2_output/prediction_plots/mlr_umap_d3n15_pred', facecolor='white', bbox_inches='tight', dpi=100)"
   ]
  },
  {
   "cell_type": "markdown",
   "metadata": {},
   "source": [
    "### RF vs LR PCA"
   ]
  },
  {
   "cell_type": "code",
   "execution_count": null,
   "metadata": {},
   "outputs": [],
   "source": [
    "rf_pca = RandomForestClassifier(random_state=1)\n",
    "rf_pca.fit(pc[0], y_train)\n",
    "rf_pca_yhat = rf_pca.predict(pc[1])\n",
    "rf_pca_yhatt = le.inverse_transform(rf_pca_yhat)"
   ]
  },
  {
   "cell_type": "code",
   "execution_count": null,
   "metadata": {},
   "outputs": [],
   "source": [
    "mlr_pca = LogisticRegression(random_state=1)\n",
    "mlr_pca.fit(pc[0], y_train)\n",
    "mlr_pca_yhat = mlr_pca.predict(pc[1])\n",
    "mlr_pca_yhatt = le.inverse_transform(mlr_pca_yhat)"
   ]
  },
  {
   "cell_type": "code",
   "execution_count": null,
   "metadata": {},
   "outputs": [],
   "source": [
    "#subplots RF vs LR PCA\n",
    "\n",
    "# create figure\n",
    "fig, axes = plt.subplots(1, 3, figsize=(30, 10), sharey=False)\n",
    "\n",
    "\n",
    "# add subplots\n",
    "#plt.figure(figsize = (10,10) )\n",
    "sns.scatterplot(ax=axes[0], x=pc[1][:,0], y=pc[1][:,1], hue = y_testt, palette=color_dict)\n",
    "axes[0].axis('equal')\n",
    "axes[0].set_title(\"True labels\", fontsize=35)\n",
    "axes[0].tick_params(axis='both', which='major', labelsize=22)\n",
    "\n",
    "sns.scatterplot(ax=axes[1], x=pc[1][:,0], y=pc[1][:,1], hue = rf_pca_yhatt, palette=color_dict)\n",
    "#axes[0].figure(figsize = (10,10) )\n",
    "axes[1].axis('equal')\n",
    "axes[1].set_title(\"Predicted labels by Random Forest\", fontsize=35)\n",
    "axes[1].tick_params(axis='both', which='major', labelsize=22)\n",
    "\n",
    "#plt.figure(figsize = (10,10) )\n",
    "sns.scatterplot(ax=axes[2], x=pc[1][:,0], y=pc[1][:,1], hue = mlr_pca_yhatt, palette=color_dict)\n",
    "axes[2].axis('equal')\n",
    "axes[2].set_title(\"Predicted labels by Logistic Regression\", fontsize=35)\n",
    "axes[2].tick_params(axis='both', which='major', labelsize=22)\n",
    "\n",
    "\n",
    "\n",
    "\n",
    "#hide legend in subplots\n",
    "for ax in axes:\n",
    "    ax.legend([],[], frameon=False)\n",
    "\n",
    "    \n",
    "# add legend\n",
    "handles, labels = axes[0].get_legend_handles_labels()\n",
    "#fig.legend(handles, labels, loc='upper right', ncol=1, bbox_to_anchor=(0.94, 0.89))\n",
    "\n",
    "\n",
    "fig.tight_layout()\n",
    "\n",
    "plt.savefig('v2_output/prediction_plots/rf_mlr_pca1', facecolor='white', bbox_inches='tight', dpi=100)\n",
    "\n",
    "\n",
    "plt.show()"
   ]
  },
  {
   "cell_type": "markdown",
   "metadata": {},
   "source": [
    "### RF vs LR UMAP"
   ]
  },
  {
   "cell_type": "code",
   "execution_count": null,
   "metadata": {},
   "outputs": [],
   "source": [
    "%%time\n",
    "rf_umap = RandomForestClassifier(random_state=1)\n",
    "rf_umap.fit(emb['d2n15'][0], y_train)\n",
    "rf_umap_yhat = rf_umap.predict(emb['d2n15'][1])\n",
    "rf_umap_yhatt = le.inverse_transform(rf_umap_yhat)"
   ]
  },
  {
   "cell_type": "code",
   "execution_count": null,
   "metadata": {},
   "outputs": [],
   "source": [
    "rf_f1 = f1_score(y_test, rf_umap_yhat, average=\"macro\")\n",
    "rf_f1"
   ]
  },
  {
   "cell_type": "code",
   "execution_count": null,
   "metadata": {},
   "outputs": [],
   "source": [
    "%%time\n",
    "mlr_umap = LogisticRegression(random_state=1)\n",
    "mlr_umap.fit(emb['d2n15'][0], y_train)\n",
    "mlr_umap_yhat = mlr_umap.predict(emb['d2n15'][1])\n",
    "mlr_umap_yhatt = le.inverse_transform(mlr_umap_yhat)"
   ]
  },
  {
   "cell_type": "code",
   "execution_count": null,
   "metadata": {},
   "outputs": [],
   "source": [
    "mlr_f1 = f1_score(y_test, mlr_umap_yhat, average=\"macro\")\n",
    "mlr_f1"
   ]
  },
  {
   "cell_type": "code",
   "execution_count": null,
   "metadata": {},
   "outputs": [],
   "source": [
    "#subplots RF vs LR UMAP\n",
    "\n",
    "# create figure\n",
    "fig, axes = plt.subplots(1, 3, figsize=(30, 10), sharey=False)\n",
    "\n",
    "\n",
    "# add subplots\n",
    "#plt.figure(figsize = (10,10) )\n",
    "sns.scatterplot(ax=axes[0], x=emb['d2n15'][1][:,0], y=emb['d2n15'][1][:,1], hue = y_testt, palette=color_dict)\n",
    "axes[0].axis('equal')\n",
    "axes[0].set_title(\"True labels\", fontsize=35)\n",
    "axes[0].tick_params(axis='both', which='major', labelsize=22)\n",
    "\n",
    "sns.scatterplot(ax=axes[1], x=emb['d2n15'][1][:,0], y=emb['d2n15'][1][:,1], hue = rf_umap_yhatt, palette=color_dict)\n",
    "#axes[0].figure(figsize = (10,10) )\n",
    "axes[1].axis('equal')\n",
    "axes[1].set_title(\"Predicted labels by Random Forest\", fontsize=35)\n",
    "axes[1].tick_params(axis='both', which='major', labelsize=22)\n",
    "\n",
    "#plt.figure(figsize = (10,10) )\n",
    "sns.scatterplot(ax=axes[2], x=emb['d2n15'][1][:,0], y=emb['d2n15'][1][:,1], hue = mlr_umap_yhatt, palette=color_dict)\n",
    "axes[2].axis('equal')\n",
    "axes[2].set_title(\"Predicted labels by Logistic Regression\", fontsize=35)\n",
    "axes[2].tick_params(axis='both', which='major', labelsize=22)\n",
    "\n",
    "\n",
    "\n",
    "\n",
    "#hide legend in subplots\n",
    "for ax in axes:\n",
    "    ax.legend([],[], frameon=False)\n",
    "\n",
    "    \n",
    "# add legend\n",
    "handles, labels = axes[0].get_legend_handles_labels()\n",
    "#fig.legend(handles, labels, loc='lower center',  ncol=12, bbox_to_anchor=(0.5, -0.05))\n",
    "\n",
    "\n",
    "fig.tight_layout()\n",
    "\n",
    "plt.savefig('v2_output/prediction_plots/rf_mlr_umap_d2n15_1', facecolor='white', bbox_inches='tight', dpi=100)\n",
    "\n",
    "\n",
    "plt.show()"
   ]
  }
 ],
 "metadata": {
  "kernelspec": {
   "display_name": "Python 3",
   "language": "python",
   "name": "python3"
  },
  "language_info": {
   "codemirror_mode": {
    "name": "ipython",
    "version": 3
   },
   "file_extension": ".py",
   "mimetype": "text/x-python",
   "name": "python",
   "nbconvert_exporter": "python",
   "pygments_lexer": "ipython3",
   "version": "3.7.4"
  },
  "toc": {
   "base_numbering": 1,
   "nav_menu": {},
   "number_sections": true,
   "sideBar": true,
   "skip_h1_title": false,
   "title_cell": "Table of Contents",
   "title_sidebar": "Contents",
   "toc_cell": false,
   "toc_position": {
    "height": "calc(100% - 180px)",
    "left": "10px",
    "top": "150px",
    "width": "320px"
   },
   "toc_section_display": true,
   "toc_window_display": true
  }
 },
 "nbformat": 4,
 "nbformat_minor": 2
}
